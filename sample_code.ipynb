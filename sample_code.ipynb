{
 "cells": [
  {
   "cell_type": "markdown",
   "id": "c4c7f541",
   "metadata": {},
   "source": [
    "# fuel type code with the lowest average fuel cost per unit burned"
   ]
  },
  {
   "cell_type": "code",
   "execution_count": 1,
   "id": "bc76fec3",
   "metadata": {},
   "outputs": [
    {
     "name": "stdout",
     "output_type": "stream",
     "text": [
      "                     fuel_cost_per_unit_burned\n",
      "fuel_type_code_pudl                           \n",
      "coal                                 67.421830\n",
      "gas                                  13.659397\n",
      "nuclear                            4955.157002\n",
      "oil                                 168.877086\n",
      "other                                18.253856\n",
      "waste                                19.518122\n"
     ]
    }
   ],
   "source": [
    "import pandas as pd\n",
    "from pandas import set_option\n",
    "data = pd.read_csv('fuel_ferc1.csv', usecols = ['fuel_type_code_pudl','fuel_cost_per_unit_burned'])\n",
    "count = data.groupby('fuel_type_code_pudl').mean()\n",
    "print(count)"
   ]
  },
  {
   "cell_type": "markdown",
   "id": "3b1c4a62",
   "metadata": {},
   "source": [
    "# standard deviation and 75th percentile of the measure of energy per unit (Fuel_mmbtu_per_unit) in two decimal places"
   ]
  },
  {
   "cell_type": "code",
   "execution_count": 2,
   "id": "cc302122",
   "metadata": {},
   "outputs": [
    {
     "name": "stdout",
     "output_type": "stream",
     "text": [
      "       fuel_mmbtu_per_unit\n",
      "count         29523.000000\n",
      "mean              8.492111\n",
      "std              10.600220\n",
      "min               0.000001\n",
      "25%               1.024000\n",
      "50%               5.762694\n",
      "75%              17.006000\n",
      "max             341.260000\n"
     ]
    }
   ],
   "source": [
    "data = pd.read_csv('fuel_ferc1.csv', usecols = ['fuel_mmbtu_per_unit'])\n",
    "print(data.describe())"
   ]
  },
  {
   "cell_type": "markdown",
   "id": "f62d38f7",
   "metadata": {},
   "source": [
    "# skewness and kurtosis for the fuel quantity burned in two decimal places"
   ]
  },
  {
   "cell_type": "code",
   "execution_count": 3,
   "id": "54ffaf8e",
   "metadata": {},
   "outputs": [
    {
     "name": "stdout",
     "output_type": "stream",
     "text": [
      "fuel_qty_burned    15.851495\n",
      "dtype: float64\n",
      "fuel_qty_burned    651.36945\n",
      "dtype: float64\n"
     ]
    }
   ],
   "source": [
    "data = pd.read_csv('fuel_ferc1.csv', usecols = ['fuel_qty_burned'])\n",
    "print(data.skew())\n",
    "print(data.kurt())"
   ]
  },
  {
   "cell_type": "markdown",
   "id": "389f6976",
   "metadata": {},
   "source": [
    "# Which feature has missing values and what is the total number of missing value and percentage of the missing rows"
   ]
  },
  {
   "cell_type": "code",
   "execution_count": 4,
   "id": "75125393",
   "metadata": {},
   "outputs": [
    {
     "name": "stdout",
     "output_type": "stream",
     "text": [
      "record_id                         0\n",
      "utility_id_ferc1                  0\n",
      "report_year                       0\n",
      "plant_name_ferc1                  0\n",
      "fuel_type_code_pudl               0\n",
      "fuel_unit                       180\n",
      "fuel_qty_burned                   0\n",
      "fuel_mmbtu_per_unit               0\n",
      "fuel_cost_per_unit_burned         0\n",
      "fuel_cost_per_unit_delivered      0\n",
      "fuel_cost_per_mmbtu               0\n",
      "dtype: int64\n",
      "record_id                       0.000000\n",
      "utility_id_ferc1                0.000000\n",
      "report_year                     0.000000\n",
      "plant_name_ferc1                0.000000\n",
      "fuel_type_code_pudl             0.000000\n",
      "fuel_unit                       0.609694\n",
      "fuel_qty_burned                 0.000000\n",
      "fuel_mmbtu_per_unit             0.000000\n",
      "fuel_cost_per_unit_burned       0.000000\n",
      "fuel_cost_per_unit_delivered    0.000000\n",
      "fuel_cost_per_mmbtu             0.000000\n",
      "dtype: float64\n"
     ]
    }
   ],
   "source": [
    "data = pd.read_csv('fuel_ferc1.csv')\n",
    "print(data.isnull().sum())\n",
    "print(data.isnull().sum() * 100 / len(data))"
   ]
  },
  {
   "cell_type": "markdown",
   "id": "d93ee53e",
   "metadata": {},
   "source": [
    "# Which of the features has the second and third lowest correlation with the Fuel Cost Per Unit Burned?"
   ]
  },
  {
   "cell_type": "code",
   "execution_count": 5,
   "id": "27f7746a",
   "metadata": {},
   "outputs": [
    {
     "name": "stdout",
     "output_type": "stream",
     "text": [
      "                              fuel_qty_burned  fuel_mmbtu_per_unit  \\\n",
      "fuel_qty_burned                      1.000000            -0.080946   \n",
      "fuel_mmbtu_per_unit                 -0.080946             1.000000   \n",
      "fuel_cost_per_unit_burned           -0.018535            -0.010034   \n",
      "fuel_cost_per_unit_delivered        -0.003551            -0.009039   \n",
      "fuel_cost_per_mmbtu                 -0.001896            -0.005884   \n",
      "\n",
      "                              fuel_cost_per_unit_burned  \\\n",
      "fuel_qty_burned                               -0.018535   \n",
      "fuel_mmbtu_per_unit                           -0.010034   \n",
      "fuel_cost_per_unit_burned                      1.000000   \n",
      "fuel_cost_per_unit_delivered                   0.011007   \n",
      "fuel_cost_per_mmbtu                           -0.000437   \n",
      "\n",
      "                              fuel_cost_per_unit_delivered  \\\n",
      "fuel_qty_burned                                  -0.003551   \n",
      "fuel_mmbtu_per_unit                              -0.009039   \n",
      "fuel_cost_per_unit_burned                         0.011007   \n",
      "fuel_cost_per_unit_delivered                      1.000000   \n",
      "fuel_cost_per_mmbtu                              -0.000109   \n",
      "\n",
      "                              fuel_cost_per_mmbtu  \n",
      "fuel_qty_burned                         -0.001896  \n",
      "fuel_mmbtu_per_unit                     -0.005884  \n",
      "fuel_cost_per_unit_burned               -0.000437  \n",
      "fuel_cost_per_unit_delivered            -0.000109  \n",
      "fuel_cost_per_mmbtu                      1.000000  \n"
     ]
    }
   ],
   "source": [
    "data = pd.read_csv('fuel_ferc1.csv', usecols=['fuel_qty_burned','fuel_mmbtu_per_unit','fuel_cost_per_unit_burned',\n",
    "                   'fuel_cost_per_unit_delivered','fuel_cost_per_mmbtu'])\n",
    "correlations = data.corr(method='pearson')\n",
    "print(correlations)"
   ]
  },
  {
   "cell_type": "markdown",
   "id": "5af2184d",
   "metadata": {},
   "source": [
    "# Which year has the highest average fuel cost per unit delivered?"
   ]
  },
  {
   "cell_type": "code",
   "execution_count": 6,
   "id": "a98bdee5",
   "metadata": {},
   "outputs": [
    {
     "name": "stdout",
     "output_type": "stream",
     "text": [
      "             fuel_cost_per_unit_delivered\n",
      "report_year                              \n",
      "1994                            63.636060\n",
      "1995                            32.735269\n",
      "1996                          9196.705948\n",
      "1997                         11140.197239\n",
      "1998                           287.154420\n",
      "1999                            25.551627\n",
      "2000                           985.362877\n",
      "2001                            60.050396\n",
      "2002                            47.594361\n",
      "2003                            55.663493\n",
      "2004                           139.524275\n",
      "2005                            41.438184\n",
      "2006                            38.657484\n",
      "2007                            43.325023\n",
      "2008                            58.588197\n",
      "2009                           652.694163\n",
      "2010                            91.862105\n",
      "2011                            59.774667\n",
      "2012                            60.994502\n",
      "2013                           172.307591\n",
      "2014                           192.737183\n",
      "2015                           326.535511\n",
      "2016                           103.901761\n",
      "2017                            46.196861\n",
      "2018                           499.269966\n"
     ]
    }
   ],
   "source": [
    "data = pd.read_csv('fuel_ferc1.csv', usecols=['report_year','fuel_cost_per_unit_delivered'])\n",
    "count = data.groupby('report_year').mean()\n",
    "print(count)"
   ]
  },
  {
   "cell_type": "code",
   "execution_count": null,
   "id": "e37206fb",
   "metadata": {},
   "outputs": [],
   "source": []
  }
 ],
 "metadata": {
  "kernelspec": {
   "display_name": "Python 3",
   "language": "python",
   "name": "python3"
  },
  "language_info": {
   "codemirror_mode": {
    "name": "ipython",
    "version": 3
   },
   "file_extension": ".py",
   "mimetype": "text/x-python",
   "name": "python",
   "nbconvert_exporter": "python",
   "pygments_lexer": "ipython3",
   "version": "3.8.8"
  }
 },
 "nbformat": 4,
 "nbformat_minor": 5
}
